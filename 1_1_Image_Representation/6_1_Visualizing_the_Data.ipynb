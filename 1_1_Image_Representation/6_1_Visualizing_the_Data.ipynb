{
  "nbformat": 4,
  "nbformat_minor": 0,
  "metadata": {
    "anaconda-cloud": {},
    "kernelspec": {
      "display_name": "Python 3",
      "language": "python",
      "name": "python3"
    },
    "language_info": {
      "codemirror_mode": {
        "name": "ipython",
        "version": 3
      },
      "file_extension": ".py",
      "mimetype": "text/x-python",
      "name": "python",
      "nbconvert_exporter": "python",
      "pygments_lexer": "ipython3",
      "version": "3.6.3"
    },
    "colab": {
      "name": "6_1. Visualizing the Data.ipynb",
      "provenance": [],
      "include_colab_link": true
    }
  },
  "cells": [
    {
      "cell_type": "markdown",
      "metadata": {
        "id": "view-in-github",
        "colab_type": "text"
      },
      "source": [
        "<a href=\"https://colab.research.google.com/github/RTae/Compter-Vision-Nano-Degree/blob/main/1_1_Image_Representation/6_1_Visualizing_the_Data.ipynb\" target=\"_parent\"><img src=\"https://colab.research.google.com/assets/colab-badge.svg\" alt=\"Open In Colab\"/></a>"
      ]
    },
    {
      "cell_type": "markdown",
      "metadata": {
        "id": "EVll1kBBGdK3"
      },
      "source": [
        "# Day and Night Image Classifier\n",
        "---\n",
        "\n",
        "The day/night image dataset consists of 200 RGB color images in two categories: day and night. There are equal numbers of each example: 100 day images and 100 night images.\n",
        "\n",
        "We'd like to build a classifier that can accurately label these images as day or night, and that relies on finding distinguishing features between the two types of images!\n",
        "\n",
        "*Note: All images come from the [AMOS dataset](http://cs.uky.edu/~jacobs/datasets/amos/) (Archive of Many Outdoor Scenes).*\n"
      ]
    },
    {
      "cell_type": "markdown",
      "metadata": {
        "id": "3SUf5zbhGdLC"
      },
      "source": [
        "### Import resources\n",
        "\n",
        "Before you get started on the project code, import the libraries and resources that you'll need."
      ]
    },
    {
      "cell_type": "code",
      "metadata": {
        "collapsed": true,
        "colab": {
          "base_uri": "https://localhost:8080/",
          "height": 368
        },
        "id": "z_ZdFSrVGdLD",
        "outputId": "08e6e906-c4c4-464c-ab1b-e674038bd6e8"
      },
      "source": [
        "import cv2 # computer vision library\n",
        "import helpers\n",
        "\n",
        "import numpy as np\n",
        "import matplotlib.pyplot as plt\n",
        "import matplotlib.image as mpimg\n",
        "\n",
        "%matplotlib inline"
      ],
      "execution_count": 1,
      "outputs": [
        {
          "output_type": "error",
          "ename": "ModuleNotFoundError",
          "evalue": "ignored",
          "traceback": [
            "\u001b[0;31m---------------------------------------------------------------------------\u001b[0m",
            "\u001b[0;31mModuleNotFoundError\u001b[0m                       Traceback (most recent call last)",
            "\u001b[0;32m<ipython-input-1-d98b23b535f1>\u001b[0m in \u001b[0;36m<module>\u001b[0;34m()\u001b[0m\n\u001b[1;32m      1\u001b[0m \u001b[0;32mimport\u001b[0m \u001b[0mcv2\u001b[0m \u001b[0;31m# computer vision library\u001b[0m\u001b[0;34m\u001b[0m\u001b[0;34m\u001b[0m\u001b[0m\n\u001b[0;32m----> 2\u001b[0;31m \u001b[0;32mimport\u001b[0m \u001b[0mhelpers\u001b[0m\u001b[0;34m\u001b[0m\u001b[0;34m\u001b[0m\u001b[0m\n\u001b[0m\u001b[1;32m      3\u001b[0m \u001b[0;34m\u001b[0m\u001b[0m\n\u001b[1;32m      4\u001b[0m \u001b[0;32mimport\u001b[0m \u001b[0mnumpy\u001b[0m \u001b[0;32mas\u001b[0m \u001b[0mnp\u001b[0m\u001b[0;34m\u001b[0m\u001b[0;34m\u001b[0m\u001b[0m\n\u001b[1;32m      5\u001b[0m \u001b[0;32mimport\u001b[0m \u001b[0mmatplotlib\u001b[0m\u001b[0;34m.\u001b[0m\u001b[0mpyplot\u001b[0m \u001b[0;32mas\u001b[0m \u001b[0mplt\u001b[0m\u001b[0;34m\u001b[0m\u001b[0;34m\u001b[0m\u001b[0m\n",
            "\u001b[0;31mModuleNotFoundError\u001b[0m: No module named 'helpers'",
            "",
            "\u001b[0;31m---------------------------------------------------------------------------\u001b[0;32m\nNOTE: If your import is failing due to a missing package, you can\nmanually install dependencies using either !pip or !apt.\n\nTo view examples of installing some common dependencies, click the\n\"Open Examples\" button below.\n\u001b[0;31m---------------------------------------------------------------------------\u001b[0m\n"
          ]
        }
      ]
    },
    {
      "cell_type": "markdown",
      "metadata": {
        "id": "5_eN1xdDGdLE"
      },
      "source": [
        "## Training and Testing Data\n",
        "The 200 day/night images are separated into training and testing datasets. \n",
        "\n",
        "* 60% of these images are training images, for you to use as you create a classifier.\n",
        "* 40% are test images, which will be used to test the accuracy of your classifier.\n",
        "\n",
        "First, we set some variables to keep track of some where our images are stored:\n",
        "\n",
        "    image_dir_training: the directory where our training image data is stored\n",
        "    image_dir_test: the directory where our test image data is stored"
      ]
    },
    {
      "cell_type": "code",
      "metadata": {
        "collapsed": true,
        "id": "lfcjYaSxGdLE"
      },
      "source": [
        "# Image data directories\n",
        "image_dir_training = \"day_night_images/training/\"\n",
        "image_dir_test = \"day_night_images/test/\""
      ],
      "execution_count": 2,
      "outputs": []
    },
    {
      "cell_type": "markdown",
      "metadata": {
        "id": "2qVGkfP3GdLE"
      },
      "source": [
        "## Load the datasets\n",
        "\n",
        "These first few lines of code will load the training day/night images and store all of them in a variable, `IMAGE_LIST`. This list contains the images and their associated label (\"day\" or \"night\"). \n",
        "\n",
        "For example, the first image-label pair in `IMAGE_LIST` can be accessed by index: \n",
        "``` IMAGE_LIST[0][:]```.\n"
      ]
    },
    {
      "cell_type": "code",
      "metadata": {
        "id": "ISUWANw0GdLF"
      },
      "source": [
        "# Using the load_dataset function in helpers.py\n",
        "# Load training data\n",
        "IMAGE_LIST = helpers.load_dataset(image_dir_training)\n"
      ],
      "execution_count": null,
      "outputs": []
    },
    {
      "cell_type": "markdown",
      "metadata": {
        "id": "EKjmrZ6IGdLF"
      },
      "source": [
        "---\n",
        "# 1. Visualize the input images\n"
      ]
    },
    {
      "cell_type": "code",
      "metadata": {
        "id": "jTPmzFH2GdLG"
      },
      "source": [
        "# Select an image and its label by list index\n",
        "image_index = 0\n",
        "selected_image = IMAGE_LIST[image_index][0]\n",
        "selected_label = IMAGE_LIST[image_index][1]\n",
        "\n",
        "## TODO: Print out 1. The shape of the image and 2. The image's label `selected_label`\n",
        "\n",
        "## TODO: Display a night image\n",
        "# Note the differences between the day and night images\n",
        "# Any measurable differences can be used to classify these images"
      ],
      "execution_count": null,
      "outputs": []
    },
    {
      "cell_type": "code",
      "metadata": {
        "collapsed": true,
        "id": "FG8PsHkkGdLG"
      },
      "source": [
        ""
      ],
      "execution_count": null,
      "outputs": []
    }
  ]
}