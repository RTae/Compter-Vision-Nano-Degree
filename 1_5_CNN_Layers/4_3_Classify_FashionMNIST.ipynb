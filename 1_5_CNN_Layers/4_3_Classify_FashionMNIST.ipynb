{
  "nbformat": 4,
  "nbformat_minor": 0,
  "metadata": {
    "anaconda-cloud": {},
    "kernelspec": {
      "display_name": "Python 3",
      "language": "python",
      "name": "python3"
    },
    "language_info": {
      "codemirror_mode": {
        "name": "ipython",
        "version": 3
      },
      "file_extension": ".py",
      "mimetype": "text/x-python",
      "name": "python",
      "nbconvert_exporter": "python",
      "pygments_lexer": "ipython3",
      "version": "3.6.3"
    },
    "colab": {
      "name": "4_3. Classify FashionMNIST.ipynb",
      "provenance": [],
      "include_colab_link": true
    }
  },
  "cells": [
    {
      "cell_type": "markdown",
      "metadata": {
        "id": "view-in-github",
        "colab_type": "text"
      },
      "source": [
        "<a href=\"https://colab.research.google.com/github/RTae/Compter-Vision-Nano-Degree/blob/main/1_5_CNN_Layers/4_3_Classify_FashionMNIST.ipynb\" target=\"_parent\"><img src=\"https://colab.research.google.com/assets/colab-badge.svg\" alt=\"Open In Colab\"/></a>"
      ]
    },
    {
      "cell_type": "markdown",
      "metadata": {
        "id": "zGJj2Or3qTXE"
      },
      "source": [
        "# CNN for Classification\n",
        "---\n",
        "In this notebook, we define **and train** an CNN to classify images from the [Fashion-MNIST database](https://github.com/zalandoresearch/fashion-mnist). \n",
        "\n",
        "We are providing two solutions to show you how different network structures and training strategies can affect the performance and accuracy of a CNN. This second solution will be a CNN with two convolutional layers **and** additional fully-connected and dropout layers to avoid overfitting the data and gradient descent with momentum to avoid reaching a local minimum. The batch size and number of epochs to train are the same as in the first example solution so that you can see how the structure of the network and loss hyperparameters have affected the accuracy of the model!\n",
        "\n",
        "Again, this is just one possible solution out of many."
      ]
    },
    {
      "cell_type": "markdown",
      "metadata": {
        "id": "S9zGpstJqTXH"
      },
      "source": [
        "### Load the [data](http://pytorch.org/docs/stable/torchvision/datasets.html)\n",
        "\n",
        "In this cell, we load in both **training and test** datasets from the FashionMNIST class."
      ]
    },
    {
      "cell_type": "code",
      "metadata": {
        "id": "PIr6fkfZqTXI",
        "outputId": "07f6ac4b-fc77-49e5-ba1a-033d3657c438"
      },
      "source": [
        "# our basic libraries\n",
        "import torch\n",
        "import torchvision\n",
        "\n",
        "# data loading and transforming\n",
        "from torchvision.datasets import FashionMNIST\n",
        "from torch.utils.data import DataLoader\n",
        "from torchvision import transforms\n",
        "\n",
        "# The output of torchvision datasets are PILImage images of range [0, 1]. \n",
        "# We transform them to Tensors for input into a CNN\n",
        "\n",
        "## Define a transform to read the data in as a tensor\n",
        "data_transform = transforms.ToTensor()\n",
        "\n",
        "# choose the training and test datasets\n",
        "train_data = FashionMNIST(root='./data', train=True,\n",
        "                                   download=True, transform=data_transform)\n",
        "\n",
        "test_data = FashionMNIST(root='./data', train=False,\n",
        "                                  download=True, transform=data_transform)\n",
        "\n",
        "\n",
        "# Print out some stats about the training and test data\n",
        "print('Train data, number of images: ', len(train_data))\n",
        "print('Test data, number of images: ', len(test_data))"
      ],
      "execution_count": null,
      "outputs": [
        {
          "output_type": "stream",
          "text": [
            "Train data, number of images:  60000\n",
            "Test data, number of images:  10000\n"
          ],
          "name": "stdout"
        }
      ]
    },
    {
      "cell_type": "code",
      "metadata": {
        "id": "CMTG2rSgqTXJ"
      },
      "source": [
        "# prepare data loaders, set the batch_size\n",
        "## TODO: you can try changing the batch_size to be larger or smaller\n",
        "## when you get to training your network, see how batch_size affects the loss\n",
        "batch_size = 20\n",
        "\n",
        "train_loader = DataLoader(train_data, batch_size=batch_size, shuffle=True)\n",
        "test_loader = DataLoader(test_data, batch_size=batch_size, shuffle=True)\n",
        "\n",
        "# specify the image classes\n",
        "classes = ['T-shirt/top', 'Trouser', 'Pullover', 'Dress', 'Coat', \n",
        "           'Sandal', 'Shirt', 'Sneaker', 'Bag', 'Ankle boot']"
      ],
      "execution_count": null,
      "outputs": []
    },
    {
      "cell_type": "markdown",
      "metadata": {
        "id": "hLv7GTQOqTXK"
      },
      "source": [
        "### Visualize some training data\n",
        "\n",
        "This cell iterates over the training dataset, loading a random batch of image/label data, using `dataiter.next()`. It then plots the batch of images and labels in a `2 x batch_size/2` grid."
      ]
    },
    {
      "cell_type": "code",
      "metadata": {
        "id": "JKskBQYTqTXK",
        "outputId": "121784e8-b7f4-4b2a-b7e3-f69539793dcd"
      },
      "source": [
        "import numpy as np\n",
        "import matplotlib.pyplot as plt\n",
        "\n",
        "%matplotlib inline\n",
        "    \n",
        "# obtain one batch of training images\n",
        "dataiter = iter(train_loader)\n",
        "images, labels = dataiter.next()\n",
        "images = images.numpy()\n",
        "\n",
        "# plot the images in the batch, along with the corresponding labels\n",
        "fig = plt.figure(figsize=(25, 4))\n",
        "for idx in np.arange(batch_size):\n",
        "    ax = fig.add_subplot(2, batch_size/2, idx+1, xticks=[], yticks=[])\n",
        "    ax.imshow(np.squeeze(images[idx]), cmap='gray')\n",
        "    ax.set_title(classes[labels[idx]])"
      ],
      "execution_count": null,
      "outputs": [
        {
          "output_type": "display_data",
          "data": {
            "image/png": "[encoded data removed]",
            "text/plain": [
              "<matplotlib.figure.Figure at 0x7fd1af503080>"
            ]
          },
          "metadata": {
            "tags": []
          }
        }
      ]
    },
    {
      "cell_type": "markdown",
      "metadata": {
        "id": "mNTFlj0vqTXL"
      },
      "source": [
        "### Define the network architecture\n",
        "\n",
        "The various layers that make up any neural network are documented, [here](http://pytorch.org/docs/stable/nn.html). For a convolutional neural network, we'll use a simple series of layers:\n",
        "* Convolutional layers\n",
        "* Maxpooling layers\n",
        "* Fully-connected (linear) layers\n",
        "\n",
        "You are also encouraged to look at adding [dropout layers](http://pytorch.org/docs/stable/nn.html#dropout) to avoid overfitting this data.\n",
        "\n",
        "---\n",
        "\n",
        "To define a neural network in PyTorch, you define the layers of a model in the function `__init__` and define the feedforward behavior of a network that employs those initialized layers in the function `forward`, which takes in an input image tensor, `x`. The structure of this Net class is shown below and left for you to fill in.\n",
        "\n",
        "Note: During training, PyTorch will be able to perform backpropagation by keeping track of the network's feedforward behavior and using autograd to calculate the update to the weights in the network.\n",
        "\n",
        "#### Define the Layers in ` __init__`\n",
        "As a reminder, a conv/pool layer may be defined like this (in `__init__`):\n",
        "```\n",
        "# 1 input image channel (for grayscale images), 32 output channels/feature maps, 3x3 square convolution kernel\n",
        "self.conv1 = nn.Conv2d(1, 32, 3)\n",
        "\n",
        "# maxpool that uses a square window of kernel_size=2, stride=2\n",
        "self.pool = nn.MaxPool2d(2, 2)      \n",
        "```\n",
        "\n",
        "#### Refer to Layers in `forward`\n",
        "Then referred to in the `forward` function like this, in which the conv1 layer has a ReLu activation applied to it before maxpooling is applied:\n",
        "```\n",
        "x = self.pool(F.relu(self.conv1(x)))\n",
        "```\n",
        "\n",
        "You must place any layers with trainable weights, such as convolutional layers, in the `__init__` function and refer to them in the `forward` function; any layers or functions that always behave in the same way, such as a pre-defined activation function, may appear in either the `__init__` or the `forward` function. In practice, you'll often see conv/pool layers defined in `__init__` and activations defined in `forward`.\n",
        "\n",
        "#### Convolutional layer\n",
        "The first convolution layer has been defined for you, it takes in a 1 channel (grayscale) image and outputs 10 feature maps as output, after convolving the image with 3x3 filters.\n",
        "\n",
        "#### Flattening\n",
        "\n",
        "Recall that to move from the output of a convolutional/pooling layer to a linear layer, you must first flatten your extracted features into a vector. If you've used the deep learning library, Keras, you may have seen this done by `Flatten()`, and in PyTorch you can flatten an input `x` with `x = x.view(x.size(0), -1)`.\n",
        "\n",
        "### TODO: Define the rest of the layers\n",
        "\n",
        "It will be up to you to define the other layers in this network; we have some recommendations, but you may change the architecture and parameters as you see fit.\n",
        "\n",
        "Recommendations/tips:\n",
        "* Use at least two convolutional layers\n",
        "* Your output must be a linear layer with 10 outputs (for the 10 classes of clothing)\n",
        "* Use a dropout layer to avoid overfitting\n",
        "\n",
        "### A note on output size\n",
        "\n",
        "For any convolutional layer, the output feature maps will have the specified depth (a depth of 10 for 10 filters in a convolutional layer) and the dimensions of the produced feature maps (width/height) can be computed as the _input image_ width/height, W, minus the filter size, F, divided by the stride, S, all + 1. The equation looks like: `output_dim = (W-F)/S + 1`, for an assumed padding size of 0. You can find a derivation of this formula, [here](http://cs231n.github.io/convolutional-networks/#conv).\n",
        "\n",
        "For a pool layer with a size 2 and stride 2, the output dimension will be reduced by a factor of 2. Read the comments in the code below to see the output size for each layer."
      ]
    },
    {
      "cell_type": "code",
      "metadata": {
        "id": "rTjft07eqTXL",
        "outputId": "2db0efea-5481-4b4c-cdb5-6660731f66f5"
      },
      "source": [
        "import torch.nn as nn\n",
        "import torch.nn.functional as F\n",
        "\n",
        "class Net(nn.Module):\n",
        "\n",
        "    def __init__(self):\n",
        "        super(Net, self).__init__()\n",
        "        \n",
        "        # 1 input image channel (grayscale), 10 output channels/feature maps\n",
        "        # 3x3 square convolution kernel\n",
        "        ## output size = (W-F)/S +1 = (28-3)/1 +1 = 26\n",
        "        # the output Tensor for one image, will have the dimensions: (10, 26, 26)\n",
        "        # after one pool layer, this becomes (10, 13, 13)\n",
        "        self.conv1 = nn.Conv2d(1, 10, 3)\n",
        "        \n",
        "        # maxpool layer\n",
        "        # pool with kernel_size=2, stride=2\n",
        "        self.pool = nn.MaxPool2d(2, 2)\n",
        "        \n",
        "        # second conv layer: 10 inputs, 20 outputs, 3x3 conv\n",
        "        ## output size = (W-F)/S +1 = (13-3)/1 +1 = 11\n",
        "        # the output tensor will have dimensions: (20, 11, 11)\n",
        "        # after another pool layer this becomes (20, 5, 5); 5.5 is rounded down\n",
        "        self.conv2 = nn.Conv2d(10, 20, 3)\n",
        "        \n",
        "        # 20 outputs * the 5*5 filtered/pooled map size\n",
        "        self.fc1 = nn.Linear(20*5*5, 50)\n",
        "        \n",
        "        # dropout with p=0.4\n",
        "        self.fc1_drop = nn.Dropout(p=0.4)\n",
        "        \n",
        "        # finally, create 10 output channels (for the 10 classes)\n",
        "        self.fc2 = nn.Linear(50, 10)\n",
        "\n",
        "    # define the feedforward behavior\n",
        "    def forward(self, x):\n",
        "        # two conv/relu + pool layers\n",
        "        x = self.pool(F.relu(self.conv1(x)))\n",
        "        x = self.pool(F.relu(self.conv2(x)))\n",
        "\n",
        "        # prep for linear layer\n",
        "        # this line of code is the equivalent of Flatten in Keras\n",
        "        x = x.view(x.size(0), -1)\n",
        "        \n",
        "        # two linear layers with dropout in between\n",
        "        x = F.relu(self.fc1(x))\n",
        "        x = self.fc1_drop(x)\n",
        "        x = self.fc2(x)\n",
        "        \n",
        "        # final output\n",
        "        return x\n",
        "\n",
        "# instantiate and print your Net\n",
        "net = Net()\n",
        "print(net)"
      ],
      "execution_count": null,
      "outputs": [
        {
          "output_type": "stream",
          "text": [
            "Net(\n",
            "  (conv1): Conv2d(1, 10, kernel_size=(3, 3), stride=(1, 1))\n",
            "  (pool): MaxPool2d(kernel_size=2, stride=2, padding=0, dilation=1, ceil_mode=False)\n",
            "  (conv2): Conv2d(10, 20, kernel_size=(3, 3), stride=(1, 1))\n",
            "  (fc1): Linear(in_features=500, out_features=50, bias=True)\n",
            "  (fc1_drop): Dropout(p=0.4)\n",
            "  (fc2): Linear(in_features=50, out_features=10, bias=True)\n",
            ")\n"
          ],
          "name": "stdout"
        }
      ]
    },
    {
      "cell_type": "markdown",
      "metadata": {
        "id": "Fyh7wJdGqTXM"
      },
      "source": [
        "### TODO: Specify the loss function and optimizer\n",
        "\n",
        "Learn more about [loss functions](http://pytorch.org/docs/stable/nn.html#loss-functions) and [optimizers](http://pytorch.org/docs/stable/optim.html) in the online documentation.\n",
        "\n",
        "Note that for a classification problem like this, one typically uses cross entropy loss, which can be defined in code like: `criterion = nn.CrossEntropyLoss()`. PyTorch also includes some standard stochastic optimizers like stochastic gradient descent and Adam. You're encouraged to try different optimizers and see how your model responds to these choices as it trains.\n"
      ]
    },
    {
      "cell_type": "code",
      "metadata": {
        "collapsed": true,
        "id": "XATGBzE4qTXM"
      },
      "source": [
        "import torch.optim as optim\n",
        "\n",
        "## TODO: specify loss function\n",
        "# using cross entropy whcih combines softmax and NLL loss\n",
        "criterion = nn.CrossEntropyLoss()\n",
        "\n",
        "## TODO: specify optimizer \n",
        "# stochastic gradient descent with a small learning rate AND some momentum\n",
        "optimizer = optim.SGD(net.parameters(), lr=0.001, momentum=0.9)"
      ],
      "execution_count": null,
      "outputs": []
    },
    {
      "cell_type": "markdown",
      "metadata": {
        "id": "fKekRu6JqTXN"
      },
      "source": [
        "### A note on accuracy\n",
        "\n",
        "It's interesting to look at the accuracy of your network **before and after** training. This way you can really see that your network has learned something. In the next cell, let's see what the accuracy of an untrained network is (we expect it to be around 10% which is the same accuracy as just guessing for all 10 classes)."
      ]
    },
    {
      "cell_type": "code",
      "metadata": {
        "id": "eRE6Mos7qTXN",
        "outputId": "e762809a-1d8c-4c59-c429-0356cd37bb4f"
      },
      "source": [
        "# Calculate accuracy before training\n",
        "correct = 0\n",
        "total = 0\n",
        "\n",
        "# Iterate through test dataset\n",
        "for images, labels in test_loader:\n",
        "\n",
        "    # forward pass to get outputs\n",
        "    # the outputs are a series of class scores\n",
        "    outputs = net(images)\n",
        "\n",
        "    # get the predicted class from the maximum value in the output-list of class scores\n",
        "    _, predicted = torch.max(outputs.data, 1)\n",
        "\n",
        "    # count up total number of correct labels\n",
        "    # for which the predicted and true labels are equal\n",
        "    total += labels.size(0)\n",
        "    correct += (predicted == labels).sum()\n",
        "\n",
        "# calculate the accuracy\n",
        "# to convert `correct` from a Tensor into a scalar, use .item()\n",
        "accuracy = 100.0 * correct.item() / total\n",
        "\n",
        "# print it out!\n",
        "print('Accuracy before training: ', accuracy)"
      ],
      "execution_count": null,
      "outputs": [
        {
          "output_type": "stream",
          "text": [
            "Accuracy before training:  9.75\n"
          ],
          "name": "stdout"
        }
      ]
    },
    {
      "cell_type": "markdown",
      "metadata": {
        "id": "mogFbZtdqTXO"
      },
      "source": [
        "### Train the Network\n",
        "\n",
        "Below, we've defined a `train` function that takes in a number of epochs to train for. \n",
        "* The number of epochs is how many times a network will cycle through the entire training dataset. \n",
        "* Inside the epoch loop, we loop over the training dataset in batches; recording the loss every 1000 batches.\n",
        "\n",
        "Here are the steps that this training function performs as it iterates over the training dataset:\n",
        "\n",
        "1. Zero's the gradients to prepare for a forward pass\n",
        "2. Passes the input through the network (forward pass)\n",
        "3. Computes the loss (how far is the predicted classes are from the correct labels)\n",
        "4. Propagates gradients back into the network’s parameters (backward pass)\n",
        "5. Updates the weights (parameter update)\n",
        "6. Prints out the calculated loss\n"
      ]
    },
    {
      "cell_type": "code",
      "metadata": {
        "collapsed": true,
        "id": "hrROWt6OqTXO"
      },
      "source": [
        "def train(n_epochs):\n",
        "    \n",
        "    loss_over_time = [] # to track the loss as the network trains\n",
        "    \n",
        "    for epoch in range(n_epochs):  # loop over the dataset multiple times\n",
        "        \n",
        "        running_loss = 0.0\n",
        "        \n",
        "        for batch_i, data in enumerate(train_loader):\n",
        "            # get the input images and their corresponding labels\n",
        "            inputs, labels = data\n",
        "\n",
        "            # zero the parameter (weight) gradients\n",
        "            optimizer.zero_grad()\n",
        "\n",
        "            # forward pass to get outputs\n",
        "            outputs = net(inputs)\n",
        "\n",
        "            # calculate the loss\n",
        "            loss = criterion(outputs, labels)\n",
        "\n",
        "            # backward pass to calculate the parameter gradients\n",
        "            loss.backward()\n",
        "\n",
        "            # update the parameters\n",
        "            optimizer.step()\n",
        "\n",
        "            # print loss statistics\n",
        "            # to convert loss into a scalar and add it to running_loss, we use .item()\n",
        "            running_loss += loss.item()\n",
        "            \n",
        "            if batch_i % 1000 == 999:    # print every 1000 batches\n",
        "                avg_loss = running_loss/1000\n",
        "                # record and print the avg loss over the 1000 batches\n",
        "                loss_over_time.append(avg_loss)\n",
        "                print('Epoch: {}, Batch: {}, Avg. Loss: {}'.format(epoch + 1, batch_i+1, avg_loss))\n",
        "                running_loss = 0.0\n",
        "\n",
        "    print('Finished Training')\n",
        "    return loss_over_time\n"
      ],
      "execution_count": null,
      "outputs": []
    },
    {
      "cell_type": "code",
      "metadata": {
        "id": "ym3Z7LXbqTXO",
        "outputId": "af8673bb-2855-43e0-e8d5-df5dbc736991"
      },
      "source": [
        "# define the number of epochs to train for\n",
        "n_epochs = 30 # start small to see if your model works, initially\n",
        "\n",
        "# call train\n",
        "training_loss = train(n_epochs)"
      ],
      "execution_count": null,
      "outputs": [
        {
          "output_type": "stream",
          "text": [
            "Epoch: 1, Batch: 1000, Avg. Loss: 1.5503497277498246\n",
            "Epoch: 1, Batch: 2000, Avg. Loss: 0.9823762179017067\n",
            "Epoch: 1, Batch: 3000, Avg. Loss: 0.8715841763317586\n",
            "Epoch: 2, Batch: 1000, Avg. Loss: 0.7868324071615934\n",
            "Epoch: 2, Batch: 2000, Avg. Loss: 0.740295095950365\n",
            "Epoch: 2, Batch: 3000, Avg. Loss: 0.7027995853126049\n",
            "Epoch: 3, Batch: 1000, Avg. Loss: 0.6736214982271195\n",
            "Epoch: 3, Batch: 2000, Avg. Loss: 0.6420598052889108\n",
            "Epoch: 3, Batch: 3000, Avg. Loss: 0.6165065146535635\n",
            "Epoch: 4, Batch: 1000, Avg. Loss: 0.6010752868279815\n",
            "Epoch: 4, Batch: 2000, Avg. Loss: 0.5861366413384675\n",
            "Epoch: 4, Batch: 3000, Avg. Loss: 0.5723311684802175\n",
            "Epoch: 5, Batch: 1000, Avg. Loss: 0.556285381063819\n",
            "Epoch: 5, Batch: 2000, Avg. Loss: 0.5371940165311098\n",
            "Epoch: 5, Batch: 3000, Avg. Loss: 0.540051191739738\n",
            "Epoch: 6, Batch: 1000, Avg. Loss: 0.5274158929437399\n",
            "Epoch: 6, Batch: 2000, Avg. Loss: 0.5127518430128694\n",
            "Epoch: 6, Batch: 3000, Avg. Loss: 0.5032681580260396\n",
            "Epoch: 7, Batch: 1000, Avg. Loss: 0.4870288127809763\n",
            "Epoch: 7, Batch: 2000, Avg. Loss: 0.505244158513844\n",
            "Epoch: 7, Batch: 3000, Avg. Loss: 0.496015349663794\n",
            "Epoch: 8, Batch: 1000, Avg. Loss: 0.48576754093915225\n",
            "Epoch: 8, Batch: 2000, Avg. Loss: 0.48350561733543873\n",
            "Epoch: 8, Batch: 3000, Avg. Loss: 0.47196527863666415\n",
            "Epoch: 9, Batch: 1000, Avg. Loss: 0.466754915881902\n",
            "Epoch: 9, Batch: 2000, Avg. Loss: 0.47388256136327983\n",
            "Epoch: 9, Batch: 3000, Avg. Loss: 0.4644597099982202\n",
            "Epoch: 10, Batch: 1000, Avg. Loss: 0.45841106051206587\n",
            "Epoch: 10, Batch: 2000, Avg. Loss: 0.4538198432326317\n",
            "Epoch: 10, Batch: 3000, Avg. Loss: 0.4536016509756446\n",
            "Epoch: 11, Batch: 1000, Avg. Loss: 0.45032810129970313\n",
            "Epoch: 11, Batch: 2000, Avg. Loss: 0.4384474340081215\n",
            "Epoch: 11, Batch: 3000, Avg. Loss: 0.4525843020901084\n",
            "Epoch: 12, Batch: 1000, Avg. Loss: 0.4386790323778987\n",
            "Epoch: 12, Batch: 2000, Avg. Loss: 0.4385225551202893\n",
            "Epoch: 12, Batch: 3000, Avg. Loss: 0.4379486278668046\n",
            "Epoch: 13, Batch: 1000, Avg. Loss: 0.4338793611228466\n",
            "Epoch: 13, Batch: 2000, Avg. Loss: 0.4356810339614749\n",
            "Epoch: 13, Batch: 3000, Avg. Loss: 0.4249481642395258\n",
            "Epoch: 14, Batch: 1000, Avg. Loss: 0.4244724450223148\n",
            "Epoch: 14, Batch: 2000, Avg. Loss: 0.42580091661959885\n",
            "Epoch: 14, Batch: 3000, Avg. Loss: 0.4134297588169575\n",
            "Epoch: 15, Batch: 1000, Avg. Loss: 0.41352825256437065\n",
            "Epoch: 15, Batch: 2000, Avg. Loss: 0.41216779660433533\n",
            "Epoch: 15, Batch: 3000, Avg. Loss: 0.4238966451883316\n",
            "Epoch: 16, Batch: 1000, Avg. Loss: 0.40851068092137577\n",
            "Epoch: 16, Batch: 2000, Avg. Loss: 0.41172413343563674\n",
            "Epoch: 16, Batch: 3000, Avg. Loss: 0.407512312008068\n",
            "Epoch: 17, Batch: 1000, Avg. Loss: 0.4069803262837231\n",
            "Epoch: 17, Batch: 2000, Avg. Loss: 0.40323004772514104\n",
            "Epoch: 17, Batch: 3000, Avg. Loss: 0.39955010274797675\n",
            "Epoch: 18, Batch: 1000, Avg. Loss: 0.4021722289249301\n",
            "Epoch: 18, Batch: 2000, Avg. Loss: 0.3949743340909481\n",
            "Epoch: 18, Batch: 3000, Avg. Loss: 0.40229857332631946\n",
            "Epoch: 19, Batch: 1000, Avg. Loss: 0.3943412540536374\n",
            "Epoch: 19, Batch: 2000, Avg. Loss: 0.38810314409434793\n",
            "Epoch: 19, Batch: 3000, Avg. Loss: 0.3916338127143681\n",
            "Epoch: 20, Batch: 1000, Avg. Loss: 0.39640154411271217\n",
            "Epoch: 20, Batch: 2000, Avg. Loss: 0.38369314727559684\n",
            "Epoch: 20, Batch: 3000, Avg. Loss: 0.38399071975797416\n",
            "Epoch: 21, Batch: 1000, Avg. Loss: 0.3839878745302558\n",
            "Epoch: 21, Batch: 2000, Avg. Loss: 0.37751691177859903\n",
            "Epoch: 21, Batch: 3000, Avg. Loss: 0.3890007802695036\n",
            "Epoch: 22, Batch: 1000, Avg. Loss: 0.3783960998430848\n",
            "Epoch: 22, Batch: 2000, Avg. Loss: 0.38276130944490433\n",
            "Epoch: 22, Batch: 3000, Avg. Loss: 0.37880005171522496\n",
            "Epoch: 23, Batch: 1000, Avg. Loss: 0.3786282137185335\n",
            "Epoch: 23, Batch: 2000, Avg. Loss: 0.37593254062533377\n",
            "Epoch: 23, Batch: 3000, Avg. Loss: 0.37070120150595903\n",
            "Epoch: 24, Batch: 1000, Avg. Loss: 0.3627518704533577\n",
            "Epoch: 24, Batch: 2000, Avg. Loss: 0.37503556187823417\n",
            "Epoch: 24, Batch: 3000, Avg. Loss: 0.37880107753351333\n",
            "Epoch: 25, Batch: 1000, Avg. Loss: 0.36501296575367453\n",
            "Epoch: 25, Batch: 2000, Avg. Loss: 0.3736507741995156\n",
            "Epoch: 25, Batch: 3000, Avg. Loss: 0.35865319488197567\n",
            "Epoch: 26, Batch: 1000, Avg. Loss: 0.357891530200839\n",
            "Epoch: 26, Batch: 2000, Avg. Loss: 0.36472464990988374\n",
            "Epoch: 26, Batch: 3000, Avg. Loss: 0.3674461318999529\n",
            "Epoch: 27, Batch: 1000, Avg. Loss: 0.3642365995682776\n",
            "Epoch: 27, Batch: 2000, Avg. Loss: 0.36075587628036737\n",
            "Epoch: 27, Batch: 3000, Avg. Loss: 0.35526194078847767\n",
            "Epoch: 28, Batch: 1000, Avg. Loss: 0.35584388167224823\n",
            "Epoch: 28, Batch: 2000, Avg. Loss: 0.35545510455779733\n",
            "Epoch: 28, Batch: 3000, Avg. Loss: 0.353847408330068\n",
            "Epoch: 29, Batch: 1000, Avg. Loss: 0.3518907689526677\n",
            "Epoch: 29, Batch: 2000, Avg. Loss: 0.3528207621723414\n",
            "Epoch: 29, Batch: 3000, Avg. Loss: 0.35581499799340965\n",
            "Epoch: 30, Batch: 1000, Avg. Loss: 0.3452995559573174\n",
            "Epoch: 30, Batch: 2000, Avg. Loss: 0.34490807877480983\n",
            "Epoch: 30, Batch: 3000, Avg. Loss: 0.3573662136420608\n",
            "Finished Training\n"
          ],
          "name": "stdout"
        }
      ]
    },
    {
      "cell_type": "markdown",
      "metadata": {
        "id": "PjJlxpjbqTXP"
      },
      "source": [
        "## Visualizing the loss\n",
        "\n",
        "A good indication of how much your network is learning as it trains is the loss over time. In this example, we printed and recorded the average loss for each 1000 batches and for each epoch. Let's plot it and see how the loss decreases (or doesn't) over time. \n",
        "\n",
        "In this case, you should see that the loss has an initially large decrease and even looks like it would decrease more (by some small, linear amount) if we let it train for more epochs."
      ]
    },
    {
      "cell_type": "code",
      "metadata": {
        "id": "LP-IjN5uqTXP",
        "outputId": "87480ba0-e11f-48f8-aa6e-184734b77587"
      },
      "source": [
        "# visualize the loss as the network trained\n",
        "plt.plot(training_loss)\n",
        "plt.xlabel('1000\\'s of batches')\n",
        "plt.ylabel('loss')\n",
        "plt.ylim(0, 2.5) # consistent scale\n",
        "plt.show()"
      ],
      "execution_count": null,
      "outputs": [
        {
          "output_type": "display_data",
          "data": {
            "image/png": "[encoded data removed]",
            "text/plain": [
              "<Figure size 432x288 with 1 Axes>"
            ]
          },
          "metadata": {
            "tags": []
          }
        }
      ]
    },
    {
      "cell_type": "markdown",
      "metadata": {
        "id": "yFEVVpktqTXR"
      },
      "source": [
        "### Test the Trained Network\n",
        "\n",
        "Once you are satisfied with how the loss of your model has decreased, there is one last step: test!\n",
        "\n",
        "You must test your trained model on a previously unseen dataset to see if it generalizes well and can accurately classify this new dataset. For FashionMNIST, which contains many pre-processed training images, a good model should reach **greater than 85% accuracy** on this test dataset. If you are not reaching this value, try training for a larger number of epochs, tweaking your hyperparameters, or adding/subtracting layers from your CNN."
      ]
    },
    {
      "cell_type": "code",
      "metadata": {
        "id": "UqhhW2ojqTXR",
        "outputId": "c0f5901c-302b-44c9-87ed-3b19a12fbaa2"
      },
      "source": [
        "# initialize tensor and lists to monitor test loss and accuracy\n",
        "test_loss = torch.zeros(1)\n",
        "class_correct = list(0. for i in range(10))\n",
        "class_total = list(0. for i in range(10))\n",
        "\n",
        "# set the module to evaluation mode\n",
        "net.eval()\n",
        "\n",
        "for batch_i, data in enumerate(test_loader):\n",
        "    \n",
        "    # get the input images and their corresponding labels\n",
        "    inputs, labels = data\n",
        "    \n",
        "    # forward pass to get outputs\n",
        "    outputs = net(inputs)\n",
        "\n",
        "    # calculate the loss\n",
        "    loss = criterion(outputs, labels)\n",
        "            \n",
        "    # update average test loss \n",
        "    test_loss = test_loss + ((torch.ones(1) / (batch_i + 1)) * (loss.data - test_loss))\n",
        "    \n",
        "    # get the predicted class from the maximum value in the output-list of class scores\n",
        "    _, predicted = torch.max(outputs.data, 1)\n",
        "    \n",
        "    # compare predictions to true label\n",
        "    # this creates a `correct` Tensor that holds the number of correctly classified images in a batch\n",
        "    correct = np.squeeze(predicted.eq(labels.data.view_as(predicted)))\n",
        "    \n",
        "    # calculate test accuracy for *each* object class\n",
        "    # we get the scalar value of correct items for a class, by calling `correct[i].item()`\n",
        "    for i in range(batch_size):\n",
        "        label = labels.data[i]\n",
        "        class_correct[label] += correct[i].item()\n",
        "        class_total[label] += 1\n",
        "\n",
        "print('Test Loss: {:.6f}\\n'.format(test_loss.numpy()[0]))\n",
        "\n",
        "for i in range(10):\n",
        "    if class_total[i] > 0:\n",
        "        print('Test Accuracy of %5s: %2d%% (%2d/%2d)' % (\n",
        "            classes[i], 100 * class_correct[i] / class_total[i],\n",
        "            np.sum(class_correct[i]), np.sum(class_total[i])))\n",
        "    else:\n",
        "        print('Test Accuracy of %5s: N/A (no training examples)' % (classes[i]))\n",
        "\n",
        "        \n",
        "print('\\nTest Accuracy (Overall): %2d%% (%2d/%2d)' % (\n",
        "    100. * np.sum(class_correct) / np.sum(class_total),\n",
        "    np.sum(class_correct), np.sum(class_total)))"
      ],
      "execution_count": null,
      "outputs": [
        {
          "output_type": "stream",
          "text": [
            "Test Loss: 0.326777\n",
            "\n",
            "Test Accuracy of T-shirt/top: 88% (880/1000)\n",
            "Test Accuracy of Trouser: 97% (970/1000)\n",
            "Test Accuracy of Pullover: 83% (837/1000)\n",
            "Test Accuracy of Dress: 90% (901/1000)\n",
            "Test Accuracy of  Coat: 75% (758/1000)\n",
            "Test Accuracy of Sandal: 96% (965/1000)\n",
            "Test Accuracy of Shirt: 57% (576/1000)\n",
            "Test Accuracy of Sneaker: 96% (967/1000)\n",
            "Test Accuracy of   Bag: 97% (977/1000)\n",
            "Test Accuracy of Ankle boot: 95% (950/1000)\n",
            "\n",
            "Test Accuracy (Overall): 87% (8781/10000)\n"
          ],
          "name": "stdout"
        }
      ]
    },
    {
      "cell_type": "markdown",
      "metadata": {
        "id": "SA5tD9OaqTXS"
      },
      "source": [
        "### Visualize sample test results\n",
        "\n",
        "Format: predicted class (true class)"
      ]
    },
    {
      "cell_type": "code",
      "metadata": {
        "id": "TuaZmUsVqTXS",
        "outputId": "4c71b2ef-6228-442b-d19f-374e0d5c50b6"
      },
      "source": [
        "# obtain one batch of test images\n",
        "dataiter = iter(test_loader)\n",
        "images, labels = dataiter.next()\n",
        "# get predictions\n",
        "preds = np.squeeze(net(images).data.max(1, keepdim=True)[1].numpy())\n",
        "images = images.numpy()\n",
        "\n",
        "# plot the images in the batch, along with predicted and true labels\n",
        "fig = plt.figure(figsize=(25, 4))\n",
        "for idx in np.arange(batch_size):\n",
        "    ax = fig.add_subplot(2, batch_size/2, idx+1, xticks=[], yticks=[])\n",
        "    ax.imshow(np.squeeze(images[idx]), cmap='gray')\n",
        "    ax.set_title(\"{} ({})\".format(classes[preds[idx]], classes[labels[idx]]),\n",
        "                 color=(\"green\" if preds[idx]==labels[idx] else \"red\"))"
      ],
      "execution_count": null,
      "outputs": [
        {
          "output_type": "display_data",
          "data": {
            "image/png": "[encoded data removed]",
            "text/plain": [
              "<Figure size 1800x288 with 20 Axes>"
            ]
          },
          "metadata": {
            "tags": []
          }
        }
      ]
    },
    {
      "cell_type": "markdown",
      "metadata": {
        "id": "Os13RPc2qTXT"
      },
      "source": [
        "### Question: What are some weaknesses of your model? (And how might you improve these in future iterations.)"
      ]
    },
    {
      "cell_type": "markdown",
      "metadata": {
        "id": "RsfXqMnGqTXT"
      },
      "source": [
        "**Answer**: Since t-shirts, shirts, and coats have a similar overall shape, my model has trouble distinguishing between those items. In fact, its lowest test class accuracy is: `Test Accuracy of Shirt`, which this model only gets right about 60% of the time . \n",
        "\n",
        "I suspect that this accuracy could be improved by doing some data augmentation with respect to these classes or even adding another convolutional layer to extract even higher level features."
      ]
    },
    {
      "cell_type": "code",
      "metadata": {
        "collapsed": true,
        "id": "eNFymvT5qTXT"
      },
      "source": [
        "# Saving the model\n",
        "model_dir = 'saved_models/'\n",
        "model_name = 'fashion_net_ex.pt'\n",
        "\n",
        "# after training, save your model parameters in the dir 'saved_models'\n",
        "# when you're ready, un-comment the line below\n",
        "torch.save(net.state_dict(), model_dir+model_name)"
      ],
      "execution_count": null,
      "outputs": []
    },
    {
      "cell_type": "code",
      "metadata": {
        "collapsed": true,
        "id": "gDbZf8fkqTXT"
      },
      "source": [
        ""
      ],
      "execution_count": null,
      "outputs": []
    }
  ]
}